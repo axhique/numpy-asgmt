{
  "metadata": {
    "language_info": {
      "codemirror_mode": {
        "name": "python",
        "version": 3
      },
      "file_extension": ".py",
      "mimetype": "text/x-python",
      "name": "python",
      "nbconvert_exporter": "python",
      "pygments_lexer": "ipython3",
      "version": "3.8"
    },
    "kernelspec": {
      "name": "python",
      "display_name": "Python (Pyodide)",
      "language": "python"
    }
  },
  "nbformat_minor": 4,
  "nbformat": 4,
  "cells": [
    {
      "cell_type": "code",
      "source": "import numpy as np\n",
      "metadata": {
        "trusted": true
      },
      "execution_count": 3,
      "outputs": []
    },
    {
      "cell_type": "code",
      "source": "# 1\n\nvector1 = np.zeros(10)\nvector1[4] = 1\n\nprint(vector1)",
      "metadata": {
        "trusted": true
      },
      "execution_count": 4,
      "outputs": [
        {
          "name": "stdout",
          "text": "[0. 0. 0. 0. 1. 0. 0. 0. 0. 0.]\n",
          "output_type": "stream"
        }
      ]
    },
    {
      "cell_type": "code",
      "source": "#2\n\nvector2 = np.arange(10, 50)\n\nprint(vector2)",
      "metadata": {
        "trusted": true
      },
      "execution_count": 5,
      "outputs": [
        {
          "name": "stdout",
          "text": "[10 11 12 13 14 15 16 17 18 19 20 21 22 23 24 25 26 27 28 29 30 31 32 33\n 34 35 36 37 38 39 40 41 42 43 44 45 46 47 48 49]\n",
          "output_type": "stream"
        }
      ]
    },
    {
      "cell_type": "code",
      "source": "#3\n\nmatrix = np.arange(9)\nmatrix = matrix.reshape(3, 3)\n\nprint(matrix)",
      "metadata": {
        "trusted": true
      },
      "execution_count": 6,
      "outputs": [
        {
          "name": "stdout",
          "text": "[[0 1 2]\n [3 4 5]\n [6 7 8]]\n",
          "output_type": "stream"
        }
      ]
    },
    {
      "cell_type": "code",
      "source": "#4\n\narray4 = np.array([1, 2, 0, 0, 4, 0])\n\nindices = np.nonzero(array4)\n\nprint(indices)",
      "metadata": {
        "trusted": true
      },
      "execution_count": 7,
      "outputs": [
        {
          "name": "stdout",
          "text": "(array([0, 1, 4], dtype=int32),)\n",
          "output_type": "stream"
        }
      ]
    },
    {
      "cell_type": "code",
      "source": "#5\n\narray5 = np.random.rand(10, 10)\n\nminimum_value = np.min(array5)\nmaximum_value = np.max(array5)\n\nprint(\"Minimum value:\", minimum_value)\nprint(\"Maximum value:\", maximum_value)",
      "metadata": {
        "trusted": true
      },
      "execution_count": 11,
      "outputs": [
        {
          "name": "stdout",
          "text": "Minimum value: 0.004378825687862409\nMaximum value: 0.9861726027716258\n",
          "output_type": "stream"
        }
      ]
    },
    {
      "cell_type": "code",
      "source": "#6\n\n\nvector6 = np.random.rand(30)\n\nmean_value = np.mean(vector6)\n\nprint(\"Mean value:\", mean_value)",
      "metadata": {
        "trusted": true
      },
      "execution_count": 10,
      "outputs": [
        {
          "name": "stdout",
          "text": "Mean value: 0.5009867852633977\n",
          "output_type": "stream"
        }
      ]
    },
    {
      "cell_type": "code",
      "source": "",
      "metadata": {},
      "execution_count": null,
      "outputs": []
    }
  ]
}